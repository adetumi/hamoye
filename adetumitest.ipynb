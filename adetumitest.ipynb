{
 "cells": [
  {
   "cell_type": "code",
   "execution_count": 1,
   "metadata": {},
   "outputs": [],
   "source": [
    "import numpy as np\n",
    "import pandas as pd\n"
   ]
  },
  {
   "cell_type": "code",
   "execution_count": 2,
   "metadata": {},
   "outputs": [
    {
     "name": "stdout",
     "output_type": "stream",
     "text": [
      "                record_id  utility_id_ferc1  report_year  \\\n",
      "0   f1_fuel_1994_12_1_0_7                 1         1994   \n",
      "1  f1_fuel_1994_12_1_0_10                 1         1994   \n",
      "2   f1_fuel_1994_12_2_0_1                 2         1994   \n",
      "3   f1_fuel_1994_12_2_0_7                 2         1994   \n",
      "4  f1_fuel_1994_12_2_0_10                 2         1994   \n",
      "\n",
      "       plant_name_ferc1 fuel_type_code_pudl fuel_unit  fuel_qty_burned  \\\n",
      "0              rockport                coal       ton        5377489.0   \n",
      "1  rockport total plant                coal       ton       10486945.0   \n",
      "2                gorgas                coal       ton        2978683.0   \n",
      "3                 barry                coal       ton        3739484.0   \n",
      "4             chickasaw                 gas       mcf          40533.0   \n",
      "\n",
      "   fuel_mmbtu_per_unit  fuel_cost_per_unit_burned  \\\n",
      "0               16.590                      18.59   \n",
      "1               16.592                      18.58   \n",
      "2               24.130                      39.72   \n",
      "3               23.950                      47.21   \n",
      "4                1.000                       2.77   \n",
      "\n",
      "   fuel_cost_per_unit_delivered  fuel_cost_per_mmbtu  \n",
      "0                         18.53                1.121  \n",
      "1                         18.53                1.120  \n",
      "2                         38.12                1.650  \n",
      "3                         45.99                1.970  \n",
      "4                          2.77                2.570  \n"
     ]
    }
   ],
   "source": [
    "url = 'https://bit.ly/HDSC-StageOneDataset'\n",
    "df = pd.read_csv(url)\n",
    "print(df.head())"
   ]
  },
  {
   "cell_type": "code",
   "execution_count": 3,
   "metadata": {},
   "outputs": [
    {
     "name": "stdout",
     "output_type": "stream",
     "text": [
      "['record_id' 'utility_id_ferc1' 'report_year' 'plant_name_ferc1'\n",
      " 'fuel_type_code_pudl' 'fuel_unit' 'fuel_qty_burned' 'fuel_mmbtu_per_unit'\n",
      " 'fuel_cost_per_unit_burned' 'fuel_cost_per_unit_delivered'\n",
      " 'fuel_cost_per_mmbtu']\n",
      "no of null values =  180\n"
     ]
    }
   ],
   "source": [
    "print(df.columns.values)\n",
    "print('no of null values = ', df.isnull().values.sum())"
   ]
  },
  {
   "cell_type": "code",
   "execution_count": 4,
   "metadata": {},
   "outputs": [
    {
     "name": "stdout",
     "output_type": "stream",
     "text": [
      "record_id                         0\n",
      "utility_id_ferc1                  0\n",
      "report_year                       0\n",
      "plant_name_ferc1                  0\n",
      "fuel_type_code_pudl               0\n",
      "fuel_unit                       180\n",
      "fuel_qty_burned                   0\n",
      "fuel_mmbtu_per_unit               0\n",
      "fuel_cost_per_unit_burned         0\n",
      "fuel_cost_per_unit_delivered      0\n",
      "fuel_cost_per_mmbtu               0\n",
      "dtype: int64\n"
     ]
    }
   ],
   "source": [
    "print(df.isnull().sum())"
   ]
  },
  {
   "cell_type": "code",
   "execution_count": 5,
   "metadata": {},
   "outputs": [
    {
     "name": "stdout",
     "output_type": "stream",
     "text": [
      "record_id                         0\n",
      "utility_id_ferc1                  0\n",
      "report_year                       0\n",
      "plant_name_ferc1                  0\n",
      "fuel_type_code_pudl               0\n",
      "fuel_unit                       180\n",
      "fuel_qty_burned                   0\n",
      "fuel_mmbtu_per_unit               0\n",
      "fuel_cost_per_unit_burned         0\n",
      "fuel_cost_per_unit_delivered      0\n",
      "fuel_cost_per_mmbtu               0\n",
      "dtype: int64\n"
     ]
    }
   ],
   "source": [
    "print(df.isnull().sum())"
   ]
  },
  {
   "cell_type": "code",
   "execution_count": 6,
   "metadata": {},
   "outputs": [
    {
     "name": "stdout",
     "output_type": "stream",
     "text": [
      "count    29523.000000\n",
      "mean         8.492111\n",
      "std         10.600220\n",
      "min          0.000001\n",
      "25%          1.024000\n",
      "50%          5.762694\n",
      "75%         17.006000\n",
      "max        341.260000\n",
      "Name: fuel_mmbtu_per_unit, dtype: float64\n"
     ]
    }
   ],
   "source": [
    "b = df['fuel_mmbtu_per_unit'].describe().transpose()\n",
    "print(b)"
   ]
  },
  {
   "cell_type": "code",
   "execution_count": 7,
   "metadata": {},
   "outputs": [
    {
     "name": "stdout",
     "output_type": "stream",
     "text": [
      "skew = 15.85 and kurtosis = 651.26\n"
     ]
    }
   ],
   "source": [
    "from scipy.stats import kurtosis, skew\n",
    "c = df['fuel_qty_burned']\n",
    "print('skew = {:.2f} and kurtosis = {:.2f}'.format(skew(c), kurtosis(c)))"
   ]
  },
  {
   "cell_type": "code",
   "execution_count": 8,
   "metadata": {},
   "outputs": [
    {
     "name": "stdout",
     "output_type": "stream",
     "text": [
      "record_id                         0\n",
      "utility_id_ferc1                  0\n",
      "report_year                       0\n",
      "plant_name_ferc1                  0\n",
      "fuel_type_code_pudl               0\n",
      "fuel_unit                       180\n",
      "fuel_qty_burned                   0\n",
      "fuel_mmbtu_per_unit               0\n",
      "fuel_cost_per_unit_burned         0\n",
      "fuel_cost_per_unit_delivered      0\n",
      "fuel_cost_per_mmbtu               0\n",
      "dtype: int64\n",
      "object\n"
     ]
    }
   ],
   "source": [
    "print(df.isnull().sum())\n",
    "print(df['fuel_unit'].dtypes)"
   ]
  },
  {
   "cell_type": "code",
   "execution_count": 12,
   "metadata": {},
   "outputs": [
    {
     "name": "stdout",
     "output_type": "stream",
     "text": [
      "total no of rows:  29523\n",
      "percentage = 0.508 \n"
     ]
    }
   ],
   "source": [
    "print('total no of rows: ', len(df))\n",
    "per = 100.0 * 150 / len(df)\n",
    "print('percentage = {:.3f} '.format(per))"
   ]
  },
  {
   "cell_type": "code",
   "execution_count": 14,
   "metadata": {},
   "outputs": [
    {
     "name": "stdout",
     "output_type": "stream",
     "text": [
      "-0.037862707599972574\n"
     ]
    }
   ],
   "source": [
    "d = df['fuel_cost_per_unit_burned']\n",
    "e = df['utility_id_ferc1']\n",
    "print(e.corr(d))"
   ]
  },
  {
   "cell_type": "code",
   "execution_count": 15,
   "metadata": {},
   "outputs": [
    {
     "name": "stdout",
     "output_type": "stream",
     "text": [
      "0.013599134438134155\n"
     ]
    }
   ],
   "source": [
    "f = df['report_year']\n",
    "print(f.corr(d))"
   ]
  },
  {
   "cell_type": "code",
   "execution_count": 16,
   "metadata": {},
   "outputs": [
    {
     "name": "stdout",
     "output_type": "stream",
     "text": [
      "-0.018535416794825232\n"
     ]
    }
   ],
   "source": [
    "g = df['fuel_qty_burned']\n",
    "print(g.corr(d))"
   ]
  },
  {
   "cell_type": "code",
   "execution_count": 17,
   "metadata": {},
   "outputs": [
    {
     "name": "stdout",
     "output_type": "stream",
     "text": [
      "-0.010033808428853078\n"
     ]
    }
   ],
   "source": [
    "h = df['fuel_mmbtu_per_unit']\n",
    "print(h.corr(d))"
   ]
  },
  {
   "cell_type": "code",
   "execution_count": 18,
   "metadata": {},
   "outputs": [
    {
     "name": "stdout",
     "output_type": "stream",
     "text": [
      "0.011007403299165122\n"
     ]
    }
   ],
   "source": [
    "i = df['fuel_cost_per_unit_delivered']\n",
    "print(i.corr(d))"
   ]
  },
  {
   "cell_type": "code",
   "execution_count": 19,
   "metadata": {},
   "outputs": [
    {
     "name": "stdout",
     "output_type": "stream",
     "text": [
      "-0.0004372104439703997\n"
     ]
    }
   ],
   "source": [
    "j = df['fuel_cost_per_mmbtu']\n",
    "print(j.corr(d))"
   ]
  },
  {
   "cell_type": "code",
   "execution_count": 20,
   "metadata": {},
   "outputs": [
    {
     "name": "stdout",
     "output_type": "stream",
     "text": [
      "[1, 2, 3, 4, 5, 6, 13, 21, 34]\n"
     ]
    }
   ],
   "source": [
    "A = [1,2,3,4,5,6]\n",
    "B = [13, 21, 34]\n",
    "A.extend(B)\n",
    "print(A)"
   ]
  },
  {
   "cell_type": "code",
   "execution_count": 21,
   "metadata": {},
   "outputs": [
    {
     "name": "stdout",
     "output_type": "stream",
     "text": [
      "[[1. 0. 0.]\n",
      " [0. 1. 0.]\n",
      " [0. 0. 1.]]\n"
     ]
    }
   ],
   "source": [
    "print(np.eye(3))"
   ]
  },
  {
   "cell_type": "code",
   "execution_count": 22,
   "metadata": {},
   "outputs": [
    {
     "name": "stdout",
     "output_type": "stream",
     "text": [
      "[[1. 0. 0.]\n",
      " [0. 1. 0.]\n",
      " [0. 0. 1.]]\n"
     ]
    }
   ],
   "source": [
    "print(np.identity(3))"
   ]
  },
  {
   "cell_type": "code",
   "execution_count": 23,
   "metadata": {},
   "outputs": [
    {
     "name": "stdout",
     "output_type": "stream",
     "text": [
      "fuel_type_code_pudl\n",
      "coal         67.421830\n",
      "gas          13.659397\n",
      "nuclear    4955.157002\n",
      "oil         168.877086\n",
      "other        18.253856\n",
      "waste        19.518122\n",
      "Name: fuel_cost_per_unit_burned, dtype: float64\n"
     ]
    }
   ],
   "source": [
    "a = df.groupby('fuel_type_code_pudl')['fuel_cost_per_unit_burned'].mean()\n",
    "print(a)"
   ]
  },
  {
   "cell_type": "code",
   "execution_count": 24,
   "metadata": {},
   "outputs": [
    {
     "name": "stdout",
     "output_type": "stream",
     "text": [
      "report_year\n",
      "1994       63.636060\n",
      "1995       32.735269\n",
      "1996     9196.705948\n",
      "1997    11140.197239\n",
      "1998      287.154420\n",
      "1999       25.551627\n",
      "2000      985.362877\n",
      "2001       60.050396\n",
      "2002       47.594361\n",
      "2003       55.663493\n",
      "2004      139.524275\n",
      "2005       41.438184\n",
      "2006       38.657484\n",
      "2007       43.325023\n",
      "2008       58.588197\n",
      "2009      652.694163\n",
      "2010       91.862105\n",
      "2011       59.774667\n",
      "2012       60.994502\n",
      "2013      172.307591\n",
      "2014      192.737183\n",
      "2015      326.535511\n",
      "2016      103.901761\n",
      "2017       46.196861\n",
      "2018      499.269966\n",
      "Name: fuel_cost_per_unit_delivered, dtype: float64\n"
     ]
    }
   ],
   "source": [
    "b = df.groupby('report_year')['fuel_cost_per_unit_delivered'].mean()\n",
    "print(b)"
   ]
  },
  {
   "cell_type": "code",
   "execution_count": null,
   "metadata": {},
   "outputs": [],
   "source": []
  }
 ],
 "metadata": {
  "kernelspec": {
   "display_name": "Python 3",
   "language": "python",
   "name": "python3"
  },
  "language_info": {
   "codemirror_mode": {
    "name": "ipython",
    "version": 3
   },
   "file_extension": ".py",
   "mimetype": "text/x-python",
   "name": "python",
   "nbconvert_exporter": "python",
   "pygments_lexer": "ipython3",
   "version": "3.7.6"
  }
 },
 "nbformat": 4,
 "nbformat_minor": 4
}
